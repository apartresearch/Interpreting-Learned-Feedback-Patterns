{
 "cells": [
  {
   "cell_type": "code",
   "execution_count": null,
   "id": "67988fe8-2d07-4f80-b948-c1af33c799ed",
   "metadata": {},
   "outputs": [],
   "source": [
    "ipython = get_ipython()\n",
    "# Code to automatically update the HookedTransformer code as its edited without restarting the kernel\n",
    "ipython.magic(\"load_ext autoreload\")\n",
    "ipython.magic(\"autoreload 2\")"
   ]
  },
  {
   "cell_type": "code",
   "execution_count": null,
   "id": "291aa7db-d955-4dc8-a62e-28ae80813a46",
   "metadata": {},
   "outputs": [],
   "source": [
    "! rm -rf Interpreting-Reward-Models || true\n",
    "! git clone https://github.com/apartresearch/Interpreting-Reward-Models.git   # Add @branch, if you are working in a branch here.\n",
    "! cd Interpreting-Reward-Models && pip install ."
   ]
  },
  {
   "cell_type": "code",
   "execution_count": null,
   "id": "483ff474-9a7a-45d1-8f5a-c6e79e10c424",
   "metadata": {},
   "outputs": [],
   "source": [
    "from reward_analyzer.configs.project_configs import HuggingfaceConfig\n",
    "from reward_analyzer.configs.task_configs import TaskConfig\n",
    "from reward_analyzer.utils.model_storage_utils import load_latest_model_from_hub\n",
    "from reward_analyzer import ExperimentRunner\n",
    "from reward_analyzer.sparse_codes_training.experiment_configs import fast_grid_experiment_configs, grid_experiment_configs"
   ]
  },
  {
   "cell_type": "code",
   "execution_count": null,
   "id": "8894d6e0-0f3a-4582-a99a-7f671c70788c",
   "metadata": {},
   "outputs": [],
   "source": [
    "grid_experiment_configs"
   ]
  },
  {
   "cell_type": "code",
   "execution_count": null,
   "id": "43be5c6d-7040-4af6-ba36-69e1d707509d",
   "metadata": {},
   "outputs": [],
   "source": [
    "pythia_alignment_config = grid_experiment_configs[('pythia-160m', 'hh_rlhf')]\n",
    "runner = ExperimentRunner(experiment_config=pythia_alignment_config)"
   ]
  },
  {
   "cell_type": "code",
   "execution_count": null,
   "id": "3d4555be-d1a9-4ea0-acf7-7795a6bf8097",
   "metadata": {},
   "outputs": [],
   "source": [
    "runner.run_experiment()"
   ]
  }
 ],
 "metadata": {
  "kernelspec": {
   "display_name": "Python 3 (ipykernel)",
   "language": "python",
   "name": "python3"
  },
  "language_info": {
   "codemirror_mode": {
    "name": "ipython",
    "version": 3
   },
   "file_extension": ".py",
   "mimetype": "text/x-python",
   "name": "python",
   "nbconvert_exporter": "python",
   "pygments_lexer": "ipython3",
   "version": "3.10.9"
  }
 },
 "nbformat": 4,
 "nbformat_minor": 5
}
