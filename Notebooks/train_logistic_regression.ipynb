{
 "cells": [
  {
   "cell_type": "code",
   "execution_count": null,
   "id": "fb865c24-6e7b-43ee-bae1-3d6aa3ce5471",
   "metadata": {},
   "outputs": [],
   "source": [
    "import huggingface_hub\n",
    "from datasets import load_dataset"
   ]
  },
  {
   "cell_type": "code",
   "execution_count": null,
   "id": "5496839d-91be-4175-addd-2f2847f85fbc",
   "metadata": {},
   "outputs": [],
   "source": [
    "import numpy as np\n",
    "import pandas as pd\n",
    "from sklearn.model_selection import train_test_split\n",
    "from sklearn.linear_model import LogisticRegression\n",
    "from sklearn.metrics import classification_report, accuracy_score\n",
    "\n",
    "import os\n",
    "import wandb\n",
    "os.environ['CUDA_VISIBLE_DEVICES'] = '2'"
   ]
  },
  {
   "cell_type": "code",
   "execution_count": null,
   "id": "3bcde422-271f-4e2c-8736-ddcb0b3d2254",
   "metadata": {},
   "outputs": [],
   "source": [
    "wandb.init(project='logistic_probes_activations')"
   ]
  },
  {
   "cell_type": "code",
   "execution_count": null,
   "id": "458e3eb4-4792-4e52-81cf-4a9488e6cc1c",
   "metadata": {},
   "outputs": [],
   "source": [
    "#model_name = 'pythia_70m'\n",
    "\n",
    "model_names = ['pythia_70m', 'pythia_160m', 'gpt_neo_125m']#, 'gemma_2b_it']\n",
    "tasks = ['unaligned', 'hh_rlhf']\n",
    "task_name = tasks[1]\n",
    "model_type = 'rlhf'\n",
    "\n",
    "\n",
    "template_name = 'data/merged_contrastive_{model_name}_from_model_{model_type}_on_task_{task_name}_activations_dataset.hf'"
   ]
  },
  {
   "cell_type": "code",
   "execution_count": null,
   "id": "2bfa88a3-0079-4228-b6e7-e988f0109ced",
   "metadata": {},
   "outputs": [],
   "source": [
    "from datasets import DatasetDict\n",
    "from huggingface_hub import HfApi, hf_hub_download\n",
    "from reward_analyzer.configs.project_configs import HuggingfaceConfig\n",
    "\n",
    "import os\n",
    "import pickle\n",
    "import shutil"
   ]
  },
  {
   "cell_type": "code",
   "execution_count": null,
   "id": "6b198e8e-f402-4586-8730-8bceeaeb4e2c",
   "metadata": {},
   "outputs": [],
   "source": [
    "# Convert the dictionary to DataFrame\n",
    "def dict_to_df(data_dict, label):\n",
    "    print(f'Converting {label} to pandas')\n",
    "    df = pd.DataFrame(data_dict)\n",
    "    df['label'] = label\n",
    "    return df"
   ]
  },
  {
   "cell_type": "code",
   "execution_count": null,
   "id": "80116482-dfbc-4e2b-b817-d2f54de0174e",
   "metadata": {},
   "outputs": [],
   "source": [
    "def download_folder_from_hub(folder_path: str, config=HuggingfaceConfig()):\n",
    "    api = HfApi()\n",
    "    repo_id = config.repo_id\n",
    "    contents = api.list_repo_files(repo_id)\n",
    "    folder_contents = [file for file in contents if file.startswith(folder_path)]\n",
    "    print(folder_contents)\n",
    "\n",
    "    for filename in folder_contents:\n",
    "        if filename.startswith(folder_path):\n",
    "            print(filename)\n",
    "            filepath = hf_hub_download(repo_id=repo_id, filename=filename, force_download=True)\n",
    "            download_dir = \"/\".join(filename.split(\"/\")[:-1])\n",
    "            print(f'{download_dir} for {filename}')\n",
    "\n",
    "            download_dir = os.path.join(os.getcwd(), download_dir)\n",
    "\n",
    "            # Ensure the directory exists\n",
    "            os.makedirs(download_dir, exist_ok=True)\n",
    "            shutil.copy(filepath, download_dir)"
   ]
  },
  {
   "cell_type": "code",
   "execution_count": null,
   "id": "68abb98e-994d-4f10-a75f-45e851b6c77f",
   "metadata": {},
   "outputs": [],
   "source": [
    "def run_logistic_regression(model_name):\n",
    "    one_template = template_name.format(model_name=model_name, model_type='rlhf', task_name=tasks[1])\n",
    "    print(one_template)\n",
    "    download_folder_from_hub(one_template)\n",
    "    dataset_dict = DatasetDict.load_from_disk(one_template)\n",
    "\n",
    "    try:\n",
    "        chosen_df = dict_to_df(dataset_dict['chosen'], 'chosen')\n",
    "        rejected_df = dict_to_df(dataset_dict['new_rejected'], 'new_rejected')\n",
    "        \n",
    "        # Concatenate the chosen and rejected DataFrames\n",
    "        df = pd.concat([chosen_df, rejected_df])\n",
    "        df = df.drop_duplicates(subset=['texts'])\n",
    "        \n",
    "        print(df.columns)\n",
    "        \n",
    "        # Compute concatenated_activations feature\n",
    "        activation_columns = [col for col in df.columns if col.startswith('averaged_activations_')]\n",
    "\n",
    "        print(f'We have {len(df)} columns left after dropping texts')\n",
    "        \n",
    "        df['concatenated_activations'] = df[activation_columns].apply(lambda row: np.concatenate(row.values), axis=1)\n",
    "\n",
    "        \n",
    "        # Split the data into features and labels\n",
    "        X = np.vstack(df['concatenated_activations'].values)\n",
    "        y = df['label'].apply(lambda x: 1 if x == 'chosen' else 0).values\n",
    "        \n",
    "        # Split into training and test sets\n",
    "        \n",
    "        X_train, X_test, y_train, y_test = train_test_split(X, y, test_size=0.2)\n",
    "        print(f'X_train is of shape {X_train.shape}')\n",
    "        \n",
    "        # Train logistic regression model\n",
    "        model = LogisticRegression()\n",
    "        model.fit(X_train, y_train)\n",
    "\n",
    "        with open(f'logistic_regression_{model_name}.pickle', 'wb') as f_out:\n",
    "            pickle.dump(model)\n",
    "        \n",
    "        # Predict on the test set\n",
    "        y_pred = model.predict(X_test)\n",
    "        \n",
    "        # Evaluate the model\n",
    "        accuracy = accuracy_score(y_test, y_pred)\n",
    "        report = classification_report(y_test, y_pred)\n",
    "        print(f'Accuracy was {accuracy} for {model_name}')\n",
    "\n",
    "        wandb.run.summary[f'{model_name}_accuracy'] = accuracy\n",
    "    except Exception as e:\n",
    "        return {'error': str(e)}\n"
   ]
  },
  {
   "cell_type": "code",
   "execution_count": null,
   "id": "8d791756-074d-42cd-a0b7-1f9bca851c5a",
   "metadata": {},
   "outputs": [],
   "source": [
    "model_names = ['pythia_70m', 'pythia_160m', 'gpt_neo_125m']\n",
    "for model_name in model_names:\n",
    "    results = run_logistic_regression(model_name)\n",
    "    print(f'Results were {results}')"
   ]
  }
 ],
 "metadata": {
  "kernelspec": {
   "display_name": "Python 3 (ipykernel)",
   "language": "python",
   "name": "python3"
  },
  "language_info": {
   "codemirror_mode": {
    "name": "ipython",
    "version": 3
   },
   "file_extension": ".py",
   "mimetype": "text/x-python",
   "name": "python",
   "nbconvert_exporter": "python",
   "pygments_lexer": "ipython3",
   "version": "3.10.9"
  }
 },
 "nbformat": 4,
 "nbformat_minor": 5
}
